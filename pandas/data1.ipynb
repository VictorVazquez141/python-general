{
 "cells": [
  {
   "cell_type": "code",
   "execution_count": 1,
   "metadata": {},
   "outputs": [],
   "source": [
    "import pandas as pd"
   ]
  },
  {
   "cell_type": "code",
   "execution_count": 2,
   "metadata": {},
   "outputs": [],
   "source": [
    "data_1 = {\"Nombre\": ['Ana','Juan','Luisa'],\n",
    "          \"Edad\": [24,28,23],\n",
    "          \"Ciudad\": ['Saltillo','Monterrey','Celaya']}"
   ]
  },
  {
   "cell_type": "code",
   "execution_count": 3,
   "metadata": {},
   "outputs": [],
   "source": [
    "df = pd.DataFrame(data_1)"
   ]
  },
  {
   "cell_type": "code",
   "execution_count": 4,
   "metadata": {},
   "outputs": [
    {
     "name": "stdout",
     "output_type": "stream",
     "text": [
      "  Nombre  Edad     Ciudad\n",
      "0    Ana    24   Saltillo\n",
      "1   Juan    28  Monterrey\n",
      "2  Luisa    23     Celaya\n"
     ]
    }
   ],
   "source": [
    "print(df)"
   ]
  },
  {
   "cell_type": "code",
   "execution_count": 5,
   "metadata": {},
   "outputs": [
    {
     "name": "stdout",
     "output_type": "stream",
     "text": [
      "            Edad\n",
      "count   3.000000\n",
      "mean   25.000000\n",
      "std     2.645751\n",
      "min    23.000000\n",
      "25%    23.500000\n",
      "50%    24.000000\n",
      "75%    26.000000\n",
      "max    28.000000\n"
     ]
    }
   ],
   "source": [
    "print(df.describe()) # descripción de estadisticas "
   ]
  },
  {
   "cell_type": "code",
   "execution_count": 5,
   "metadata": {},
   "outputs": [
    {
     "name": "stdout",
     "output_type": "stream",
     "text": [
      "<class 'pandas.core.frame.DataFrame'>\n",
      "RangeIndex: 3 entries, 0 to 2\n",
      "Data columns (total 3 columns):\n",
      " #   Column  Non-Null Count  Dtype \n",
      "---  ------  --------------  ----- \n",
      " 0   Nombre  3 non-null      object\n",
      " 1   Edad    3 non-null      int64 \n",
      " 2   Ciudad  3 non-null      object\n",
      "dtypes: int64(1), object(2)\n",
      "memory usage: 200.0+ bytes\n",
      "None\n"
     ]
    }
   ],
   "source": [
    "# Ver el tipo de datos de las columnas \n",
    "print(df.info())"
   ]
  },
  {
   "cell_type": "code",
   "execution_count": 6,
   "metadata": {},
   "outputs": [],
   "source": [
    "df.fillna(0, inplace=True)  # Rellena los valores nulos con 0\n"
   ]
  },
  {
   "cell_type": "code",
   "execution_count": 7,
   "metadata": {},
   "outputs": [
    {
     "name": "stdout",
     "output_type": "stream",
     "text": [
      "  Nombre  Edad     Ciudad\n",
      "0    Ana    24   Saltillo\n",
      "1   Juan    28  Monterrey\n",
      "2  Luisa    23     Celaya\n"
     ]
    }
   ],
   "source": [
    "print(df)"
   ]
  },
  {
   "cell_type": "code",
   "execution_count": 8,
   "metadata": {},
   "outputs": [],
   "source": [
    "data_2 = {\"Nombre\": ['Rey','Laura','Pedro'],\n",
    "          \"Edad\": [24,28,23],\n",
    "          \"Ciudad\": ['Saltillo','Monterrey','Celaya'],\n",
    "          \"Telefono\": ['7123345567','',''],\n",
    "          \"Puesto\": ['Jefe','','']}"
   ]
  },
  {
   "cell_type": "code",
   "execution_count": 10,
   "metadata": {},
   "outputs": [],
   "source": [
    "df_2 = pd.DataFrame(data_2)"
   ]
  },
  {
   "cell_type": "code",
   "execution_count": 11,
   "metadata": {},
   "outputs": [
    {
     "name": "stdout",
     "output_type": "stream",
     "text": [
      "  Nombre  Edad     Ciudad    Telefono Puesto\n",
      "0    Rey    24   Saltillo  7123345567   Jefe\n",
      "1  Laura    28  Monterrey                   \n",
      "2  Pedro    23     Celaya                   \n"
     ]
    }
   ],
   "source": [
    "print(df_2)"
   ]
  },
  {
   "cell_type": "code",
   "execution_count": 12,
   "metadata": {},
   "outputs": [],
   "source": [
    "df_2.fillna(0, inplace=True)  # Rellena los valores nulos con 0"
   ]
  },
  {
   "cell_type": "code",
   "execution_count": 13,
   "metadata": {},
   "outputs": [
    {
     "name": "stdout",
     "output_type": "stream",
     "text": [
      "  Nombre  Edad     Ciudad    Telefono Puesto\n",
      "0    Rey    24   Saltillo  7123345567   Jefe\n",
      "1  Laura    28  Monterrey                   \n",
      "2  Pedro    23     Celaya                   \n"
     ]
    }
   ],
   "source": [
    "print(df_2)"
   ]
  },
  {
   "cell_type": "code",
   "execution_count": 17,
   "metadata": {},
   "outputs": [],
   "source": [
    "df_json = pd.read_json(\"index.json\")"
   ]
  },
  {
   "cell_type": "code",
   "execution_count": 18,
   "metadata": {},
   "outputs": [
    {
     "name": "stdout",
     "output_type": "stream",
     "text": [
      "  nombre  edad     ciudad\n",
      "0   Juan    30     Madrid\n",
      "1    Ana    25  Barcelona\n",
      "2   Luis    35    Sevilla\n"
     ]
    }
   ],
   "source": [
    "print(df_json)"
   ]
  },
  {
   "cell_type": "code",
   "execution_count": 19,
   "metadata": {},
   "outputs": [],
   "source": [
    "df_empleados = pd.read_json(\"empleados.json\")"
   ]
  },
  {
   "cell_type": "code",
   "execution_count": 20,
   "metadata": {},
   "outputs": [
    {
     "name": "stdout",
     "output_type": "stream",
     "text": [
      "                                            personas\n",
      "0  {'nombre': 'Juan', 'edad': 30, 'ciudad': 'Madr...\n",
      "1  {'nombre': 'Ana', 'edad': 25, 'ciudad': 'Barce...\n",
      "2  {'nombre': 'Luis', 'edad': 35, 'ciudad': 'Sevi...\n"
     ]
    }
   ],
   "source": [
    "print(df_empleados)"
   ]
  },
  {
   "cell_type": "code",
   "execution_count": null,
   "metadata": {},
   "outputs": [],
   "source": []
  }
 ],
 "metadata": {
  "kernelspec": {
   "display_name": "Python 3",
   "language": "python",
   "name": "python3"
  },
  "language_info": {
   "codemirror_mode": {
    "name": "ipython",
    "version": 3
   },
   "file_extension": ".py",
   "mimetype": "text/x-python",
   "name": "python",
   "nbconvert_exporter": "python",
   "pygments_lexer": "ipython3",
   "version": "3.10.7"
  }
 },
 "nbformat": 4,
 "nbformat_minor": 2
}
