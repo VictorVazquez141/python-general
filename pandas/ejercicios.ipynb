{
 "cells": [
  {
   "cell_type": "code",
   "execution_count": 1,
   "metadata": {},
   "outputs": [],
   "source": [
    "import pandas as pd"
   ]
  },
  {
   "cell_type": "markdown",
   "metadata": {},
   "source": [
    "# Series en Pandas \n",
    "Son un conjunto de datos UNIDIMENCIONALES (filas) que almacenan información de diferentes tipos, como strings, numbers o floats. Son similares a la(s) columnas de una tabla y se pueden crear a partir de listas o diccionarios.\n",
    "- Permiten manipulas etiquetas de forma eficiente.\n",
    "- Para acceder a elementos de una seire se realiza mediente corchetes o etiqueta del elemento (diccionarios)\n",
    "- Atributos de una Serie: index, values, name, axes, shape\n",
    "- Devuelve los elementos con un indice"
   ]
  },
  {
   "cell_type": "code",
   "execution_count": 2,
   "metadata": {},
   "outputs": [
    {
     "name": "stdout",
     "output_type": "stream",
     "text": [
      "0    1\n",
      "1    2\n",
      "2    3\n",
      "3    4\n",
      "4    5\n",
      "5    6\n",
      "6    7\n",
      "7    8\n",
      "8    9\n",
      "9    0\n",
      "dtype: int64\n"
     ]
    }
   ],
   "source": [
    "# Serie creada con una lista\n",
    "serie_1 = pd.Series([1,2,3,4,5,6,7,8,9,0])\n",
    "print(serie_1)"
   ]
  },
  {
   "cell_type": "markdown",
   "metadata": {},
   "source": [
    "# DataFrame\n",
    "Son estructuras de datos BIDIMENCIONALES (filas y columnas) utilizadas para analizar datos\n",
    "- Similares a las matrices, pero cada columna puede contener diferente(s) tipos de datos\n",
    "- Contienen datos especificos de varias columnas \n",
    "- Metodos para obtener información de DF(info(), describe(), shape, head())"
   ]
  },
  {
   "cell_type": "code",
   "execution_count": 4,
   "metadata": {},
   "outputs": [
    {
     "name": "stdout",
     "output_type": "stream",
     "text": [
      "        Pais           Capital  Poblacion(Mill)\n",
      "0     Mexico  Ciudad de Mexico               20\n",
      "1     Brasil    Rio de Janeiro               45\n",
      "2   Colombia            Bogota               21\n",
      "3  Argentina      Buenos Aires               32\n"
     ]
    }
   ],
   "source": [
    "# dataframe con diccionario\n",
    "dato_geo = {\n",
    "    'Pais': ['Mexico','Brasil','Colombia','Argentina'],\n",
    "    'Capital': ['Ciudad de Mexico','Rio de Janeiro','Bogota','Buenos Aires'],\n",
    "    'Poblacion(Mill)': [20,45,21,32]\n",
    "}\n",
    "df_geo = pd.DataFrame(dato_geo)\n",
    "print(df_geo)"
   ]
  },
  {
   "cell_type": "code",
   "execution_count": null,
   "metadata": {},
   "outputs": [],
   "source": []
  }
 ],
 "metadata": {
  "kernelspec": {
   "display_name": "Python 3",
   "language": "python",
   "name": "python3"
  },
  "language_info": {
   "codemirror_mode": {
    "name": "ipython",
    "version": 3
   },
   "file_extension": ".py",
   "mimetype": "text/x-python",
   "name": "python",
   "nbconvert_exporter": "python",
   "pygments_lexer": "ipython3",
   "version": "3.10.7"
  }
 },
 "nbformat": 4,
 "nbformat_minor": 2
}
